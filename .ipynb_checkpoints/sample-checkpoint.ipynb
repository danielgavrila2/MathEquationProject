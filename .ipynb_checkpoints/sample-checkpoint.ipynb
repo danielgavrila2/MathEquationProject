{
 "cells": [
  {
   "cell_type": "markdown",
   "id": "8a77807f92f26ee",
   "metadata": {
    "jp-MarkdownHeadingCollapsed": true
   },
   "source": []
  },
  {
   "cell_type": "markdown",
   "id": "9eceae83a45f08ca",
   "metadata": {},
   "source": [
    "Necessary imports"
   ]
  },
  {
   "cell_type": "code",
   "execution_count": null,
   "id": "a2dac82a8019cd9a",
   "metadata": {},
   "outputs": [],
   "source": [
    "import numpy as np\n",
    "import os, random\n",
    "from skimage import io\n",
    "import matplotlib.pyplot as plt"
   ]
  },
  {
   "cell_type": "code",
   "execution_count": null,
   "id": "a1c1bd4d7cea0e35",
   "metadata": {},
   "outputs": [],
   "source": [
    "folder = \"data/\""
   ]
  },
  {
   "cell_type": "markdown",
   "id": "d42ad2d53576e429",
   "metadata": {},
   "source": [
    "1. We have to construct random equations"
   ]
  },
  {
   "cell_type": "code",
   "execution_count": null,
   "id": "9181a61e836fe46c",
   "metadata": {},
   "outputs": [],
   "source": [
    "def generate_equation(nb = 2, max_terms = 100):\n",
    "\n",
    "    assert nb > 1, \"An equation has at least two terms.\"\n",
    "\n",
    "    equation = []\n",
    "    signs = [\"+\", \"-\", \"*\"]\n",
    "\n",
    "    for n in range(nb):\n",
    "        gen_number = np.random.randint(max_terms)\n",
    "        equation.append(str(gen_number))\n",
    "\n",
    "        gen_sign = signs[np.random.choice(len(signs))]\n",
    "        equation.append(gen_sign)\n",
    "\n",
    "    #\n",
    "    equation = equation[:-1]\n",
    "    equation = ''.join(equation)\n",
    "\n",
    "    answer = \n"
   ]
  }
 ],
 "metadata": {
  "kernelspec": {
   "display_name": "Python 3 (ipykernel)",
   "language": "python",
   "name": "python3"
  },
  "language_info": {
   "codemirror_mode": {
    "name": "ipython",
    "version": 3
   },
   "file_extension": ".py",
   "mimetype": "text/x-python",
   "name": "python",
   "nbconvert_exporter": "python",
   "pygments_lexer": "ipython3",
   "version": "3.13.2"
  }
 },
 "nbformat": 4,
 "nbformat_minor": 5
}
